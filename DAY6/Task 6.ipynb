{
 "cells": [
  {
   "cell_type": "code",
   "execution_count": 3,
   "id": "6fff3492-abd4-491b-828c-ff16f1bf595d",
   "metadata": {},
   "outputs": [
    {
     "name": "stdout",
     "output_type": "stream",
     "text": [
      "   Area  Bedrooms Location   Price\n",
      "0  1500         3    Urban  400000\n",
      "1  1800         4    Urban  500000\n",
      "2  2000         3    Rural  350000\n",
      "3  2500         5    Urban  600000\n",
      "4  2200         4    Rural  450000\n",
      "Linear Regression Performance:\n",
      "Mean Absolute Error: 5034.883720930346\n",
      "Mean Squared Error: 34419956.73337099\n",
      "R-squared: 0.990438900907397\n",
      "\n",
      "Random Forest Performance:\n",
      "Mean Absolute Error: 73350.0\n",
      "Mean Squared Error: 5425785000.0\n",
      "R-squared: -0.5071625\n"
     ]
    }
   ],
   "source": [
    "import pandas as pd\n",
    "import numpy as np\n",
    "from sklearn.model_selection import train_test_split\n",
    "from sklearn.preprocessing import StandardScaler\n",
    "from sklearn.linear_model import LinearRegression\n",
    "from sklearn.ensemble import RandomForestRegressor\n",
    "from sklearn.metrics import mean_absolute_error, mean_squared_error, r2_score\n",
    "\n",
    "data = pd.read_csv('Salary_Data.csv') \n",
    "\n",
    "print(data.head())\n",
    "\n",
    "data = data.dropna()\n",
    "\n",
    "X = data[['Area', 'Bedrooms', 'Location']]  \n",
    "y = data['Price']  \n",
    "\n",
    "X = pd.get_dummies(X, columns=['Location'], drop_first=True)\n",
    "\n",
    "scaler = StandardScaler()\n",
    "X_scaled = scaler.fit_transform(X)\n",
    "\n",
    "X_train, X_test, y_train, y_test = train_test_split(X_scaled, y, test_size=0.2, random_state=42)\n",
    "\n",
    "model_lr = LinearRegression()\n",
    "model_lr.fit(X_train, y_train)\n",
    "\n",
    "y_pred_lr = model_lr.predict(X_test)\n",
    "\n",
    "print(\"Linear Regression Performance:\")\n",
    "print(\"Mean Absolute Error:\", mean_absolute_error(y_test, y_pred_lr))\n",
    "print(\"Mean Squared Error:\", mean_squared_error(y_test, y_pred_lr))\n",
    "print(\"R-squared:\", r2_score(y_test, y_pred_lr))\n",
    "\n",
    "model_rf = RandomForestRegressor(n_estimators=100, random_state=42)\n",
    "model_rf.fit(X_train, y_train)\n",
    "\n",
    "y_pred_rf = model_rf.predict(X_test)\n",
    "\n",
    "print(\"\\nRandom Forest Performance:\")\n",
    "print(\"Mean Absolute Error:\", mean_absolute_error(y_test, y_pred_rf))\n",
    "print(\"Mean Squared Error:\", mean_squared_error(y_test, y_pred_rf))\n",
    "print(\"R-squared:\", r2_score(y_test, y_pred_rf))\n"
   ]
  },
  {
   "cell_type": "code",
   "execution_count": null,
   "id": "9ca824e7-c2ab-4649-8aab-b29cccf7c823",
   "metadata": {},
   "outputs": [],
   "source": []
  }
 ],
 "metadata": {
  "kernelspec": {
   "display_name": "Python 3 (ipykernel)",
   "language": "python",
   "name": "python3"
  },
  "language_info": {
   "codemirror_mode": {
    "name": "ipython",
    "version": 3
   },
   "file_extension": ".py",
   "mimetype": "text/x-python",
   "name": "python",
   "nbconvert_exporter": "python",
   "pygments_lexer": "ipython3",
   "version": "3.13.2"
  }
 },
 "nbformat": 4,
 "nbformat_minor": 5
}
